{
 "cells": [
  {
   "metadata": {
    "collapsed": true
   },
   "cell_type": "markdown",
   "source": [
    "# Part 1: 知识点梳理\n",
    "\n",
    "### 1. 什么是 Cellular Automaton (CA)？\n",
    "\n",
    "- CA 是一个 **离散动力系统**：\n",
    "  - **空间**：由许多 cell 组成（在 1D 就是一条线）。\n",
    "  - **时间**：每个时刻同步更新。\n",
    "  - **规则**：一个 cell 的新状态由 **自身 + 邻居** 的状态决定。\n",
    "\n",
    "------\n",
    "\n",
    "### 2. Elementary Cellular Automata (ECA)\n",
    "\n",
    "- **特点**：\n",
    "  - 1D 线性格子（无限或有限）。\n",
    "  - 每个 cell 有 **2 种状态**（0 或 1）。\n",
    "  - 规则只依赖于 **自己和左右两个邻居**（共 3 个 cell）。\n",
    "- 因此一共有 $2^{2^3} = 256$ 种规则（称为 **Wolfram 规则**）。\n",
    "\n",
    "------\n",
    "\n",
    "### 3. Wolfram 规则表示法\n",
    "\n",
    "- 例如：**Rule 30**，就是把所有 8 种邻居组合的输出编码成一个二进制数，然后转十进制。\n",
    "  - 邻居模式：111, 110, 101, 100, 011, 010, 001, 000\n",
    "  - 输出值（二进制）：00011110\n",
    "  - 转换为十进制 = 30\n",
    "\n",
    "------\n",
    "\n",
    "### 4. Wolfram 分类\n",
    "\n",
    "- **Class 1**：演化到固定状态（例：Rule 0, 32）。\n",
    "- **Class 2**：演化到周期状态（例：Rule 4, 108）。\n",
    "- **Class 3**：混沌、无规则（例：Rule 30）。\n",
    "- **Class 4**：复杂、涌现计算性（例：Rule 110，可图灵完备）。"
   ],
   "id": "de772651d39c2b98"
  },
  {
   "metadata": {
    "ExecuteTime": {
     "end_time": "2025-08-22T09:44:29.818668Z",
     "start_time": "2025-08-22T09:44:29.712668Z"
    }
   },
   "cell_type": "code",
   "source": [
    "# ECA仿真器（简化）\n",
    "import numpy as np\n",
    "import matplotlib.pyplot as plt\n",
    "\n",
    "def rule_to_dict(rule_number):\n",
    "    \"\"\"将Wolfram规则转换为字典映射\"\"\"\n",
    "    # 8钟邻居模式\n",
    "    patterns = [tuple(map(int, f\"{i:03b}\")) for i in range(8)]\n",
    "    # rule_number转换为8位的二进制数字\n",
    "    outputs = [int(x) for x in f\"{rule_number:08b}\"]\n",
    "    outputs.reverse() # Wolfram编码顺序\n",
    "    return {p: o for p, o in zip(patterns, outputs)}\n",
    "\n",
    "def run_eca(rule_number, size=101, steps=60):\n",
    "    rule = rule_to_dict(rule_number)\n",
    "    grid = np.zeros((steps, size), dtype=int)\n",
    "    # 初始条件：中间状态为1\n",
    "    grid[0, size//2] = 1\n",
    "    for t in range (1, steps):\n",
    "        for i in range (1, size-1):\n",
    "            neighborhood = tuple(grid[t-1, i-1:i+2])\n",
    "            grid[t, i] = rule[neighborhood]\n",
    "    return grid\n",
    "\n",
    "# Example: Rule 30\n",
    "grid = run_eca(30, size=101, steps=60)\n",
    "plt.imshow(grid, cmap='binary')\n",
    "plt.title('Rule 30')\n",
    "plt.show()"
   ],
   "id": "d1a3570f3ae78342",
   "outputs": [
    {
     "data": {
      "text/plain": [
       "<Figure size 640x480 with 1 Axes>"
      ],
      "image/png": "[encoded data removed]"
     },
     "metadata": {},
     "output_type": "display_data"
    }
   ],
   "execution_count": 2
  },
  {
   "metadata": {},
   "cell_type": "code",
   "outputs": [],
   "execution_count": null,
   "source": "",
   "id": "bfb5e04c7ab48af3"
  }
 ],
 "metadata": {
  "kernelspec": {
   "display_name": "Python 3",
   "language": "python",
   "name": "python3"
  },
  "language_info": {
   "codemirror_mode": {
    "name": "ipython",
    "version": 2
   },
   "file_extension": ".py",
   "mimetype": "text/x-python",
   "name": "python",
   "nbconvert_exporter": "python",
   "pygments_lexer": "ipython2",
   "version": "2.7.6"
  }
 },
 "nbformat": 4,
 "nbformat_minor": 5
}
