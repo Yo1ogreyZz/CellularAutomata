{
 "cells": [
  {
   "cell_type": "code",
   "execution_count": 4,
   "id": "8c06ae44",
   "metadata": {},
   "outputs": [
    {
     "name": "stdout",
     "output_type": "stream",
     "text": [
      "开始验证论文表格中的所有唯一规则：\n",
      "------------------------------------------------------------\n",
      "Rule       | Paper Subclass       | Our Code Output      | Match\n",
      "------------------------------------------------------------\n"
     ]
    },
    {
     "name": "stderr",
     "output_type": "stream",
     "text": [
      "                                                                                                    \r"
     ]
    },
    {
     "name": "stdout",
     "output_type": "stream",
     "text": [
      "0          | 1                    | 1                    | ✅\n"
     ]
    },
    {
     "name": "stderr",
     "output_type": "stream",
     "text": [
      "                                                                                                    \r"
     ]
    },
    {
     "name": "stdout",
     "output_type": "stream",
     "text": [
      "1          | LP                   | LP                   | ✅\n"
     ]
    },
    {
     "name": "stderr",
     "output_type": "stream",
     "text": [
      "                                                                                                    \r"
     ]
    },
    {
     "name": "stdout",
     "output_type": "stream",
     "text": [
      "2          | LP                   | LP                   | ✅\n"
     ]
    },
    {
     "name": "stderr",
     "output_type": "stream",
     "text": [
      "                                                                                                    \r"
     ]
    },
    {
     "name": "stdout",
     "output_type": "stream",
     "text": [
      "3          | LP                   | LP                   | ✅\n"
     ]
    },
    {
     "name": "stderr",
     "output_type": "stream",
     "text": [
      "                                                                                                    \r"
     ]
    },
    {
     "name": "stdout",
     "output_type": "stream",
     "text": [
      "4          | LP                   | LP                   | ✅\n"
     ]
    },
    {
     "name": "stderr",
     "output_type": "stream",
     "text": [
      "                                                                                                    \r"
     ]
    },
    {
     "name": "stdout",
     "output_type": "stream",
     "text": [
      "5          | LP                   | LP                   | ✅\n"
     ]
    },
    {
     "name": "stderr",
     "output_type": "stream",
     "text": [
      "                                                                                                    \r"
     ]
    },
    {
     "name": "stdout",
     "output_type": "stream",
     "text": [
      "6          | LP                   | LP                   | ✅\n"
     ]
    },
    {
     "name": "stderr",
     "output_type": "stream",
     "text": [
      "                                                                                                    \r"
     ]
    },
    {
     "name": "stdout",
     "output_type": "stream",
     "text": [
      "7          | LP                   | LP                   | ✅\n"
     ]
    },
    {
     "name": "stderr",
     "output_type": "stream",
     "text": [
      "                                                                                                    \r"
     ]
    },
    {
     "name": "stdout",
     "output_type": "stream",
     "text": [
      "8          | 1                    | 1                    | ✅\n"
     ]
    },
    {
     "name": "stderr",
     "output_type": "stream",
     "text": [
      "                                                                                                    \r"
     ]
    },
    {
     "name": "stdout",
     "output_type": "stream",
     "text": [
      "9          | LP                   | T                    | ❌\n"
     ]
    },
    {
     "name": "stderr",
     "output_type": "stream",
     "text": [
      "                                                                                                    \r"
     ]
    },
    {
     "name": "stdout",
     "output_type": "stream",
     "text": [
      "10         | LP                   | LP                   | ✅\n"
     ]
    },
    {
     "name": "stderr",
     "output_type": "stream",
     "text": [
      "                                                                                                    \r"
     ]
    },
    {
     "name": "stdout",
     "output_type": "stream",
     "text": [
      "11         | LP                   | LP                   | ✅\n"
     ]
    },
    {
     "name": "stderr",
     "output_type": "stream",
     "text": [
      "                                                                                                    \r"
     ]
    },
    {
     "name": "stdout",
     "output_type": "stream",
     "text": [
      "12         | LP                   | LP                   | ✅\n"
     ]
    },
    {
     "name": "stderr",
     "output_type": "stream",
     "text": [
      "                                                                                                    \r"
     ]
    },
    {
     "name": "stdout",
     "output_type": "stream",
     "text": [
      "13         | LP                   | LP                   | ✅\n"
     ]
    },
    {
     "name": "stderr",
     "output_type": "stream",
     "text": [
      "                                                                                                    \r"
     ]
    },
    {
     "name": "stdout",
     "output_type": "stream",
     "text": [
      "14         | LP                   | T                    | ❌\n"
     ]
    },
    {
     "name": "stderr",
     "output_type": "stream",
     "text": [
      "                                                                                                    \r"
     ]
    },
    {
     "name": "stdout",
     "output_type": "stream",
     "text": [
      "15         | LP                   | LP                   | ✅\n"
     ]
    },
    {
     "name": "stderr",
     "output_type": "stream",
     "text": [
      "                                                                                                    \r"
     ]
    },
    {
     "name": "stdout",
     "output_type": "stream",
     "text": [
      "18         | C                    | U                    | ❌\n"
     ]
    },
    {
     "name": "stderr",
     "output_type": "stream",
     "text": [
      "                                                                                                    \r"
     ]
    },
    {
     "name": "stdout",
     "output_type": "stream",
     "text": [
      "19         | LP                   | LP                   | ✅\n"
     ]
    },
    {
     "name": "stderr",
     "output_type": "stream",
     "text": [
      "                                                                                                    \r"
     ]
    },
    {
     "name": "stdout",
     "output_type": "stream",
     "text": [
      "22         | C                    | U                    | ❌\n"
     ]
    },
    {
     "name": "stderr",
     "output_type": "stream",
     "text": [
      "                                                                                                    \r"
     ]
    },
    {
     "name": "stdout",
     "output_type": "stream",
     "text": [
      "23         | LP                   | LP                   | ✅\n"
     ]
    },
    {
     "name": "stderr",
     "output_type": "stream",
     "text": [
      "                                                                                                    \r"
     ]
    },
    {
     "name": "stdout",
     "output_type": "stream",
     "text": [
      "24         | LP                   | LP                   | ✅\n"
     ]
    },
    {
     "name": "stderr",
     "output_type": "stream",
     "text": [
      "                                                                                                    \r"
     ]
    },
    {
     "name": "stdout",
     "output_type": "stream",
     "text": [
      "25         | HP                   | T                    | ❌\n"
     ]
    },
    {
     "name": "stderr",
     "output_type": "stream",
     "text": [
      "                                                                                                    \r"
     ]
    },
    {
     "name": "stdout",
     "output_type": "stream",
     "text": [
      "26         | LP                   | LP                   | ✅\n"
     ]
    },
    {
     "name": "stderr",
     "output_type": "stream",
     "text": [
      "                                                                                                    \r"
     ]
    },
    {
     "name": "stdout",
     "output_type": "stream",
     "text": [
      "27         | LP                   | LP                   | ✅\n"
     ]
    },
    {
     "name": "stderr",
     "output_type": "stream",
     "text": [
      "                                                                                                    \r"
     ]
    },
    {
     "name": "stdout",
     "output_type": "stream",
     "text": [
      "28         | LP                   | LP                   | ✅\n"
     ]
    },
    {
     "name": "stderr",
     "output_type": "stream",
     "text": [
      "                                                                                                    \r"
     ]
    },
    {
     "name": "stdout",
     "output_type": "stream",
     "text": [
      "29         | LP                   | LP                   | ✅\n"
     ]
    },
    {
     "name": "stderr",
     "output_type": "stream",
     "text": [
      "                                                                                                    \r"
     ]
    },
    {
     "name": "stdout",
     "output_type": "stream",
     "text": [
      "30         | C                    | U                    | ❌\n"
     ]
    },
    {
     "name": "stderr",
     "output_type": "stream",
     "text": [
      "                                                                                                    \r"
     ]
    },
    {
     "name": "stdout",
     "output_type": "stream",
     "text": [
      "32         | 1                    | 1                    | ✅\n"
     ]
    },
    {
     "name": "stderr",
     "output_type": "stream",
     "text": [
      "                                                                                                    \r"
     ]
    },
    {
     "name": "stdout",
     "output_type": "stream",
     "text": [
      "33         | LP                   | LP                   | ✅\n"
     ]
    },
    {
     "name": "stderr",
     "output_type": "stream",
     "text": [
      "                                                                                                    \r"
     ]
    },
    {
     "name": "stdout",
     "output_type": "stream",
     "text": [
      "34         | LP                   | LP                   | ✅\n"
     ]
    },
    {
     "name": "stderr",
     "output_type": "stream",
     "text": [
      "                                                                                                    \r"
     ]
    },
    {
     "name": "stdout",
     "output_type": "stream",
     "text": [
      "35         | LP                   | LP                   | ✅\n"
     ]
    },
    {
     "name": "stderr",
     "output_type": "stream",
     "text": [
      "                                                                                                    \r"
     ]
    },
    {
     "name": "stdout",
     "output_type": "stream",
     "text": [
      "36         | LP                   | LP                   | ✅\n"
     ]
    },
    {
     "name": "stderr",
     "output_type": "stream",
     "text": [
      "                                                                                                    \r"
     ]
    },
    {
     "name": "stdout",
     "output_type": "stream",
     "text": [
      "37         | LP                   | LP                   | ✅\n"
     ]
    },
    {
     "name": "stderr",
     "output_type": "stream",
     "text": [
      "                                                                                                    \r"
     ]
    },
    {
     "name": "stdout",
     "output_type": "stream",
     "text": [
      "38         | LP                   | LP                   | ✅\n"
     ]
    },
    {
     "name": "stderr",
     "output_type": "stream",
     "text": [
      "                                                                                                    \r"
     ]
    },
    {
     "name": "stdout",
     "output_type": "stream",
     "text": [
      "40         | 1                    | 1                    | ✅\n"
     ]
    },
    {
     "name": "stderr",
     "output_type": "stream",
     "text": [
      "                                                                                                    \r"
     ]
    },
    {
     "name": "stdout",
     "output_type": "stream",
     "text": [
      "41         | T                    | LP                   | ❌\n"
     ]
    },
    {
     "name": "stderr",
     "output_type": "stream",
     "text": [
      "                                                                                                    \r"
     ]
    },
    {
     "name": "stdout",
     "output_type": "stream",
     "text": [
      "42         | LP                   | LP                   | ✅\n"
     ]
    },
    {
     "name": "stderr",
     "output_type": "stream",
     "text": [
      "                                                                                                    \r"
     ]
    },
    {
     "name": "stdout",
     "output_type": "stream",
     "text": [
      "43         | LP                   | T                    | ❌\n"
     ]
    },
    {
     "name": "stderr",
     "output_type": "stream",
     "text": [
      "                                                                                                    \r"
     ]
    },
    {
     "name": "stdout",
     "output_type": "stream",
     "text": [
      "44         | LP                   | LP                   | ✅\n"
     ]
    },
    {
     "name": "stderr",
     "output_type": "stream",
     "text": [
      "                                                                                                    \r"
     ]
    },
    {
     "name": "stdout",
     "output_type": "stream",
     "text": [
      "45         | C                    | U                    | ❌\n"
     ]
    },
    {
     "name": "stderr",
     "output_type": "stream",
     "text": [
      "                                                                                                    \r"
     ]
    },
    {
     "name": "stdout",
     "output_type": "stream",
     "text": [
      "46         | LP                   | LP                   | ✅\n"
     ]
    },
    {
     "name": "stderr",
     "output_type": "stream",
     "text": [
      "                                                                                                    \r"
     ]
    },
    {
     "name": "stdout",
     "output_type": "stream",
     "text": [
      "50         | LP                   | LP                   | ✅\n"
     ]
    },
    {
     "name": "stderr",
     "output_type": "stream",
     "text": [
      "                                                                                                    \r"
     ]
    },
    {
     "name": "stdout",
     "output_type": "stream",
     "text": [
      "51         | LP                   | LP                   | ✅\n"
     ]
    },
    {
     "name": "stderr",
     "output_type": "stream",
     "text": [
      "                                                                                                    \r"
     ]
    },
    {
     "name": "stdout",
     "output_type": "stream",
     "text": [
      "54         | T                    | T                    | ✅\n"
     ]
    },
    {
     "name": "stderr",
     "output_type": "stream",
     "text": [
      "                                                                                                    \r"
     ]
    },
    {
     "name": "stdout",
     "output_type": "stream",
     "text": [
      "56         | LP                   | LP                   | ✅\n"
     ]
    },
    {
     "name": "stderr",
     "output_type": "stream",
     "text": [
      "                                                                                                    \r"
     ]
    },
    {
     "name": "stdout",
     "output_type": "stream",
     "text": [
      "57         | LP                   | T                    | ❌\n"
     ]
    },
    {
     "name": "stderr",
     "output_type": "stream",
     "text": [
      "                                                                                                    \r"
     ]
    },
    {
     "name": "stdout",
     "output_type": "stream",
     "text": [
      "58         | LP                   | LP                   | ✅\n"
     ]
    },
    {
     "name": "stderr",
     "output_type": "stream",
     "text": [
      "                                                                                                    \r"
     ]
    },
    {
     "name": "stdout",
     "output_type": "stream",
     "text": [
      "60         | U                    | LP                   | ❌\n"
     ]
    },
    {
     "name": "stderr",
     "output_type": "stream",
     "text": [
      "                                                                                                    \r"
     ]
    },
    {
     "name": "stdout",
     "output_type": "stream",
     "text": [
      "62         | HP                   | U                    | ❌\n"
     ]
    },
    {
     "name": "stderr",
     "output_type": "stream",
     "text": [
      "                                                                                                    \r"
     ]
    },
    {
     "name": "stdout",
     "output_type": "stream",
     "text": [
      "72         | LP                   | LP                   | ✅\n"
     ]
    },
    {
     "name": "stderr",
     "output_type": "stream",
     "text": [
      "                                                                                                    \r"
     ]
    },
    {
     "name": "stdout",
     "output_type": "stream",
     "text": [
      "73         | T                    | HP                   | ❌\n"
     ]
    },
    {
     "name": "stderr",
     "output_type": "stream",
     "text": [
      "                                                                                                    \r"
     ]
    },
    {
     "name": "stdout",
     "output_type": "stream",
     "text": [
      "74         | LP                   | LP                   | ✅\n"
     ]
    },
    {
     "name": "stderr",
     "output_type": "stream",
     "text": [
      "                                                                                                    \r"
     ]
    },
    {
     "name": "stdout",
     "output_type": "stream",
     "text": [
      "76         | LP                   | LP                   | ✅\n"
     ]
    },
    {
     "name": "stderr",
     "output_type": "stream",
     "text": [
      "                                                                                                    \r"
     ]
    },
    {
     "name": "stdout",
     "output_type": "stream",
     "text": [
      "77         | LP                   | LP                   | ✅\n"
     ]
    },
    {
     "name": "stderr",
     "output_type": "stream",
     "text": [
      "                                                                                                    \r"
     ]
    },
    {
     "name": "stdout",
     "output_type": "stream",
     "text": [
      "78         | LP                   | LP                   | ✅\n"
     ]
    },
    {
     "name": "stderr",
     "output_type": "stream",
     "text": [
      "                                                                                                    \r"
     ]
    },
    {
     "name": "stdout",
     "output_type": "stream",
     "text": [
      "90         | U                    | LP                   | ❌\n"
     ]
    },
    {
     "name": "stderr",
     "output_type": "stream",
     "text": [
      "                                                                                                    \r"
     ]
    },
    {
     "name": "stdout",
     "output_type": "stream",
     "text": [
      "94         | LP                   | LP                   | ✅\n"
     ]
    },
    {
     "name": "stderr",
     "output_type": "stream",
     "text": [
      "                                                                                                    \r"
     ]
    },
    {
     "name": "stdout",
     "output_type": "stream",
     "text": [
      "104        | LP                   | LP                   | ✅\n"
     ]
    },
    {
     "name": "stderr",
     "output_type": "stream",
     "text": [
      "                                                                                                    \r"
     ]
    },
    {
     "name": "stdout",
     "output_type": "stream",
     "text": [
      "105        | U                    | LP                   | ❌\n"
     ]
    },
    {
     "name": "stderr",
     "output_type": "stream",
     "text": [
      "                                                                                                    \r"
     ]
    },
    {
     "name": "stdout",
     "output_type": "stream",
     "text": [
      "106        | C                    | U                    | ❌\n"
     ]
    },
    {
     "name": "stderr",
     "output_type": "stream",
     "text": [
      "                                                                                                    \r"
     ]
    },
    {
     "name": "stdout",
     "output_type": "stream",
     "text": [
      "108        | LP                   | LP                   | ✅\n"
     ]
    },
    {
     "name": "stderr",
     "output_type": "stream",
     "text": [
      "                                                                                                    \r"
     ]
    },
    {
     "name": "stdout",
     "output_type": "stream",
     "text": [
      "110        | T                    | T                    | ✅\n"
     ]
    },
    {
     "name": "stderr",
     "output_type": "stream",
     "text": [
      "                                                                                                    \r"
     ]
    },
    {
     "name": "stdout",
     "output_type": "stream",
     "text": [
      "122        | C                    | U                    | ❌\n"
     ]
    },
    {
     "name": "stderr",
     "output_type": "stream",
     "text": [
      "                                                                                                    \r"
     ]
    },
    {
     "name": "stdout",
     "output_type": "stream",
     "text": [
      "126        | C                    | U                    | ❌\n"
     ]
    },
    {
     "name": "stderr",
     "output_type": "stream",
     "text": [
      "                                                                                                    \r"
     ]
    },
    {
     "name": "stdout",
     "output_type": "stream",
     "text": [
      "128        | 1                    | 1                    | ✅\n"
     ]
    },
    {
     "name": "stderr",
     "output_type": "stream",
     "text": [
      "                                                                                                    \r"
     ]
    },
    {
     "name": "stdout",
     "output_type": "stream",
     "text": [
      "130        | LP                   | LP                   | ✅\n"
     ]
    },
    {
     "name": "stderr",
     "output_type": "stream",
     "text": [
      "                                                                                                    \r"
     ]
    },
    {
     "name": "stdout",
     "output_type": "stream",
     "text": [
      "132        | LP                   | LP                   | ✅\n"
     ]
    },
    {
     "name": "stderr",
     "output_type": "stream",
     "text": [
      "                                                                                                    \r"
     ]
    },
    {
     "name": "stdout",
     "output_type": "stream",
     "text": [
      "134        | LP                   | LP                   | ✅\n"
     ]
    },
    {
     "name": "stderr",
     "output_type": "stream",
     "text": [
      "                                                                                                    \r"
     ]
    },
    {
     "name": "stdout",
     "output_type": "stream",
     "text": [
      "136        | 1                    | 1                    | ✅\n"
     ]
    },
    {
     "name": "stderr",
     "output_type": "stream",
     "text": [
      "                                                                                                    \r"
     ]
    },
    {
     "name": "stdout",
     "output_type": "stream",
     "text": [
      "138        | LP                   | LP                   | ✅\n"
     ]
    },
    {
     "name": "stderr",
     "output_type": "stream",
     "text": [
      "                                                                                                    \r"
     ]
    },
    {
     "name": "stdout",
     "output_type": "stream",
     "text": [
      "140        | LP                   | LP                   | ✅\n"
     ]
    },
    {
     "name": "stderr",
     "output_type": "stream",
     "text": [
      "                                                                                                    \r"
     ]
    },
    {
     "name": "stdout",
     "output_type": "stream",
     "text": [
      "142        | LP                   | T                    | ❌\n"
     ]
    },
    {
     "name": "stderr",
     "output_type": "stream",
     "text": [
      "                                                                                                    \r"
     ]
    },
    {
     "name": "stdout",
     "output_type": "stream",
     "text": [
      "146        | C                    | U                    | ❌\n"
     ]
    },
    {
     "name": "stderr",
     "output_type": "stream",
     "text": [
      "                                                                                                    \r"
     ]
    },
    {
     "name": "stdout",
     "output_type": "stream",
     "text": [
      "150        | U                    | LP                   | ❌\n"
     ]
    },
    {
     "name": "stderr",
     "output_type": "stream",
     "text": [
      "                                                                                                    \r"
     ]
    },
    {
     "name": "stdout",
     "output_type": "stream",
     "text": [
      "152        | LP                   | LP                   | ✅\n"
     ]
    },
    {
     "name": "stderr",
     "output_type": "stream",
     "text": [
      "                                                                                                    \r"
     ]
    },
    {
     "name": "stdout",
     "output_type": "stream",
     "text": [
      "154        | LP                   | LP                   | ✅\n"
     ]
    },
    {
     "name": "stderr",
     "output_type": "stream",
     "text": [
      "                                                                                                    \r"
     ]
    },
    {
     "name": "stdout",
     "output_type": "stream",
     "text": [
      "156        | LP                   | LP                   | ✅\n"
     ]
    },
    {
     "name": "stderr",
     "output_type": "stream",
     "text": [
      "                                                                                                    \r"
     ]
    },
    {
     "name": "stdout",
     "output_type": "stream",
     "text": [
      "158        | LP                   | LP                   | ✅\n"
     ]
    },
    {
     "name": "stderr",
     "output_type": "stream",
     "text": [
      "                                                                                                    \r"
     ]
    },
    {
     "name": "stdout",
     "output_type": "stream",
     "text": [
      "160        | 1                    | 1                    | ✅\n"
     ]
    },
    {
     "name": "stderr",
     "output_type": "stream",
     "text": [
      "                                                                                                    \r"
     ]
    },
    {
     "name": "stdout",
     "output_type": "stream",
     "text": [
      "162        | LP                   | LP                   | ✅\n"
     ]
    },
    {
     "name": "stderr",
     "output_type": "stream",
     "text": [
      "                                                                                                    \r"
     ]
    },
    {
     "name": "stdout",
     "output_type": "stream",
     "text": [
      "164        | LP                   | LP                   | ✅\n"
     ]
    },
    {
     "name": "stderr",
     "output_type": "stream",
     "text": [
      "                                                                                                    \r"
     ]
    },
    {
     "name": "stdout",
     "output_type": "stream",
     "text": [
      "168        | 1                    | LP                   | ❌\n"
     ]
    },
    {
     "name": "stderr",
     "output_type": "stream",
     "text": [
      "                                                                                                    \r"
     ]
    },
    {
     "name": "stdout",
     "output_type": "stream",
     "text": [
      "170        | LP                   | LP                   | ✅\n"
     ]
    },
    {
     "name": "stderr",
     "output_type": "stream",
     "text": [
      "                                                                                                    \r"
     ]
    },
    {
     "name": "stdout",
     "output_type": "stream",
     "text": [
      "172        | LP                   | LP                   | ✅\n"
     ]
    },
    {
     "name": "stderr",
     "output_type": "stream",
     "text": [
      "                                                                                                    \r"
     ]
    },
    {
     "name": "stdout",
     "output_type": "stream",
     "text": [
      "178        | LP                   | LP                   | ✅\n"
     ]
    },
    {
     "name": "stderr",
     "output_type": "stream",
     "text": [
      "                                                                                                    \r"
     ]
    },
    {
     "name": "stdout",
     "output_type": "stream",
     "text": [
      "184        | LP                   | T                    | ❌\n"
     ]
    },
    {
     "name": "stderr",
     "output_type": "stream",
     "text": [
      "                                                                                                    \r"
     ]
    },
    {
     "name": "stdout",
     "output_type": "stream",
     "text": [
      "200        | LP                   | LP                   | ✅\n"
     ]
    },
    {
     "name": "stderr",
     "output_type": "stream",
     "text": [
      "                                                                                                    \r"
     ]
    },
    {
     "name": "stdout",
     "output_type": "stream",
     "text": [
      "204        | LP                   | LP                   | ✅\n"
     ]
    },
    {
     "name": "stderr",
     "output_type": "stream",
     "text": [
      "                                                                                                    "
     ]
    },
    {
     "name": "stdout",
     "output_type": "stream",
     "text": [
      "232        | LP                   | LP                   | ✅\n",
      "------------------------------------------------------------\n",
      "总共测试规则数: 89\n",
      "匹配成功数: 66\n",
      "准确率: 74.16%\n"
     ]
    },
    {
     "name": "stderr",
     "output_type": "stream",
     "text": [
      "\r"
     ]
    }
   ],
   "source": [
    "# \"111\"\n",
    "import numpy as np\n",
    "import matplotlib.pyplot as plt\n",
    "from tqdm import tqdm\n",
    "\n",
    "# ==============================================================================\n",
    "# 模块 1: 元胞自动机模拟器 (来自你的代码，无需修改)\n",
    "# ==============================================================================\n",
    "\n",
    "class ElementaryCellularAutomaton:\n",
    "    \"\"\"\n",
    "    一个初等元胞自动机（ECA）的模拟器。\n",
    "    \"\"\"\n",
    "    def __init__(self, rule_number: int, size: int = 100):\n",
    "        if not 0 <= rule_number <= 255:\n",
    "            raise ValueError(\"规则编号必须在0到255之间。\")\n",
    "        self.rule_number = rule_number\n",
    "        self.size = size\n",
    "        self.rule_table = np.array([int(x) for x in f'{rule_number:08b}'], dtype=np.uint8)\n",
    "        self.state = None\n",
    "        self.history = []\n",
    "\n",
    "    def initialize(self, initial_state: np.ndarray = None):\n",
    "        if initial_state is None:\n",
    "            self.state = np.random.randint(0, 2, self.size, dtype=np.uint8)\n",
    "        else:\n",
    "            if initial_state.shape != (self.size,):\n",
    "                raise ValueError(f\"初始状态的形状必须为({self.size},)。\")\n",
    "            self.state = initial_state.astype(np.uint8)\n",
    "        self.history = [self.state.copy()]\n",
    "\n",
    "    def evolve(self, steps: int = 1):\n",
    "        if self.state is None:\n",
    "            raise RuntimeError(\"必须先调用initialize()方法来初始化状态。\")\n",
    "        for _ in range(steps):\n",
    "            left_neighbors = np.roll(self.state, 1)\n",
    "            right_neighbors = np.roll(self.state, -1)\n",
    "            indices = 4 * left_neighbors + 2 * self.state + 1 * right_neighbors\n",
    "            self.state = self.rule_table[7 - indices]\n",
    "            self.history.append(self.state.copy())\n",
    "\n",
    "# ==============================================================================\n",
    "# 模块 2: 时间序列分析 (最终修正版)\n",
    "# ==============================================================================\n",
    "\n",
    "def detect_periodicity(ts: np.ndarray, min_period: int = 2, significance: float = 12.0) -> int | None:\n",
    "    \"\"\"\n",
    "    使用快速傅里叶变换(FFT)检测时间序列中的主周期。\n",
    "    显著性(significance)参数被进一步提高，以确保只捕捉非常强的周期信号。\n",
    "    \"\"\"\n",
    "    n = len(ts)\n",
    "    if n < min_period * 2:\n",
    "        return None\n",
    "\n",
    "    ts = ts - np.mean(ts)\n",
    "    if np.all(np.abs(ts) < 1e-6):\n",
    "        return 1\n",
    "\n",
    "    fft_power = np.abs(np.fft.rfft(ts))**2\n",
    "    fft_freq = np.fft.rfftfreq(n)\n",
    "    \n",
    "    fft_power[fft_freq > 1.0 / min_period] = 0\n",
    "    fft_power[0] = 0 \n",
    "\n",
    "    if np.all(fft_power < 1e-9):\n",
    "        return None\n",
    "\n",
    "    peak_idx = np.argmax(fft_power)\n",
    "    peak_power = fft_power[peak_idx]\n",
    "\n",
    "    # 检查峰值是否足够显著\n",
    "    mean_power = (np.sum(fft_power) - peak_power) / (len(fft_power) - 1)\n",
    "    if mean_power < 1e-9 or peak_power / mean_power < significance:\n",
    "        return None\n",
    "\n",
    "    dominant_freq = fft_freq[peak_idx]\n",
    "    if dominant_freq < 1e-9:\n",
    "        return None\n",
    "    period = int(round(1 / dominant_freq))\n",
    "\n",
    "    if period > n // 2:\n",
    "        return None\n",
    "\n",
    "    return period\n",
    "\n",
    "def is_transient(ts: np.ndarray, tail_len: int = 400, var_ratio: float = 5.0) -> bool:\n",
    "    \"\"\"\n",
    "    更严格地检查瞬态混沌。\n",
    "    \"\"\"\n",
    "    if len(ts) < tail_len * 2:\n",
    "        return False\n",
    "\n",
    "    tail = ts[-tail_len:]\n",
    "    head = ts[:-tail_len]\n",
    "    \n",
    "    std_tail = np.std(tail)\n",
    "    std_head = np.std(head)\n",
    "\n",
    "    # 条件1: 头部必须比尾部混乱得多\n",
    "    if std_tail < 1e-6: # 尾部完全稳定\n",
    "        if std_head < 2.0: return False # 头部不够乱\n",
    "    elif (std_head / std_tail) < var_ratio:\n",
    "        return False\n",
    "    \n",
    "    # 条件2: 尾部本身必须是简单的（稳定的或短周期的）\n",
    "    period_in_tail = detect_periodicity(tail, significance=8.0)\n",
    "    if period_in_tail is None and std_tail > 2.0:\n",
    "        return False\n",
    "\n",
    "    # 条件3: 整个序列不应被简单地归类为一个稳定的长周期信号\n",
    "    if detect_periodicity(ts, significance=10.0) is not None:\n",
    "        return False\n",
    "\n",
    "    return True\n",
    "\n",
    "def characterize_series(ts: np.ndarray, L: int, tail_len: int = 400) -> str:\n",
    "    \"\"\"\n",
    "    最终版的分类函数，采用更鲁棒的分层决策逻辑。\n",
    "    \"\"\"\n",
    "    # 1. 处理最简单的情况\n",
    "    if np.all(ts == 0):\n",
    "        return '1'\n",
    "    \n",
    "    # 2. 优先检查最独特的行为：瞬态混沌\n",
    "    if is_transient(ts, tail_len=tail_len):\n",
    "        return 'T'\n",
    "        \n",
    "    # 3. 其次，寻找全局的、最强的证据：整个序列的周期性\n",
    "    period = detect_periodicity(ts, significance=12.0)\n",
    "    if period is not None:\n",
    "        if period <= 20:\n",
    "            return 'LP'\n",
    "        if 20 < period < 5 * L:\n",
    "            return 'HP'\n",
    "        if period >= 5 * L:\n",
    "            return 'U'\n",
    "            \n",
    "    # 4. 如果既非瞬态也无全局周期，再用尾部稳定性来区分 LP 和 C\n",
    "    if len(ts) > tail_len:\n",
    "        tail = ts[-tail_len:]\n",
    "        if np.std(tail) < 2.0:\n",
    "            return 'LP' # 这是一个稳定下来但被FFT错过的简单规则\n",
    "\n",
    "    # 5. 如果以上所有情况都不是，那它就是混沌\n",
    "    return 'C'\n",
    "\n",
    "# ==============================================================================\n",
    "# 模块 3: 模拟与分类流程\n",
    "# ==============================================================================\n",
    "\n",
    "COMPLEXITY_HIERARCHY = {'T': 5, 'U': 4, 'C': 3, 'HP': 2, 'LP': 1, '1': 0}\n",
    "\n",
    "def hamming_distance(arr1: np.ndarray, arr2: np.ndarray) -> int:\n",
    "    return np.count_nonzero(arr1 != arr2)\n",
    "\n",
    "def run_single_trial(rule_number: int, size: int, duration: int, transient_period: int) -> np.ndarray:\n",
    "    eca_A = ElementaryCellularAutomaton(rule_number, size)\n",
    "    eca_A.initialize()\n",
    "    \n",
    "    eca_B = ElementaryCellularAutomaton(rule_number, size)\n",
    "    eca_B.initialize(initial_state=eca_A.state.copy())\n",
    "\n",
    "    eca_A.evolve(steps=transient_period)\n",
    "    eca_B.evolve(steps=transient_period)\n",
    "    \n",
    "    perturb_idx = size // 2\n",
    "    eca_B.state[perturb_idx] = 1 - eca_B.state[perturb_idx]\n",
    "\n",
    "    hamming_ts = []\n",
    "    for _ in range(duration):\n",
    "        eca_A.evolve()\n",
    "        eca_B.evolve()\n",
    "        dist = hamming_distance(eca_A.state, eca_B.state)\n",
    "        hamming_ts.append(dist)\n",
    "        \n",
    "    return np.array(hamming_ts)\n",
    "\n",
    "def classify_rule(rule_number: int, num_trials: int = 100, size: int = 100, \n",
    "                  duration: int = 3000, transient_period: int = 15) -> str:\n",
    "    results = []\n",
    "    for _ in tqdm(range(num_trials), desc=f\"Classifying Rule {rule_number}\", leave=False, ncols=100):\n",
    "        ts = run_single_trial(rule_number, size, duration, transient_period)\n",
    "        classification = characterize_series(ts, size)\n",
    "        results.append(classification)\n",
    "    \n",
    "    if not results:\n",
    "        return \"Error\"\n",
    "        \n",
    "    most_complex_result = max(results, key=lambda r: COMPLEXITY_HIERARCHY.get(r, -1))\n",
    "    \n",
    "    return most_complex_result\n",
    "\n",
    "# ==============================================================================\n",
    "# 模块 4: 复现与验证\n",
    "# ==============================================================================\n",
    "\n",
    "def verify_all_rules_from_paper():\n",
    "    \"\"\"\n",
    "    根据论文中提供的所有唯一规则来验证分类算法。\n",
    "    \"\"\"\n",
    "    paper_results_full = {\n",
    "        0: '1', 1: 'LP', 2: 'LP', 3: 'LP', 4: 'LP', 5: 'LP', 6: 'LP', 7: 'LP',\n",
    "        8: '1', 9: 'LP', 10: 'LP', 11: 'LP', 12: 'LP', 13: 'LP', 14: 'LP',\n",
    "        15: 'LP', 18: 'C', 19: 'LP', 22: 'C', 23: 'LP', 24: 'LP', 25: 'HP',\n",
    "        26: 'LP', 27: 'LP', 28: 'LP', 29: 'LP', 30: 'C', 32: '1', 33: 'LP',\n",
    "        34: 'LP', 35: 'LP', 36: 'LP', 37: 'LP', 38: 'LP', 40: '1', 41: 'T',\n",
    "        42: 'LP', 43: 'LP', 44: 'LP', 45: 'C', 46: 'LP', 50: 'LP', 51: 'LP',\n",
    "        54: 'T', 56: 'LP', 57: 'LP', 58: 'LP', 60: 'U', 62: 'HP', 72: 'LP',\n",
    "        73: 'T', 74: 'LP', 76: 'LP', 77: 'LP', 78: 'LP', 90: 'U', 94: 'LP',\n",
    "        104: 'LP', 105: 'U', 106: 'C', 108: 'LP', 110: 'T', 122: 'C', 126: 'C',\n",
    "        128: '1', 130: 'LP', 132: 'LP', 134: 'LP', 136: '1', 138: 'LP',\n",
    "        140: 'LP', 142: 'LP', 146: 'C', 150: 'U', 152: 'LP', 154: 'LP',\n",
    "        156: 'LP', 158: 'LP', 160: '1', 162: 'LP', 164: 'LP', 168: '1',\n",
    "        170: 'LP', 172: 'LP', 178: 'LP', 184: 'LP', 200: 'LP', 204: 'LP',\n",
    "        232: 'LP'\n",
    "    }\n",
    "\n",
    "    rules_to_test = sorted(paper_results_full.keys())\n",
    "    correct_count = 0\n",
    "\n",
    "    print(\"开始验证论文表格中的所有唯一规则：\")\n",
    "    print(\"-\" * 60)\n",
    "    print(f\"{'Rule':<10} | {'Paper Subclass':<20} | {'Our Code Output':<20} | {'Match'}\")\n",
    "    print(\"-\" * 60)\n",
    "\n",
    "    for rule in rules_to_test:\n",
    "        # 增加试验次数以获得更可靠的结果\n",
    "        classification = classify_rule(rule, num_trials=50, duration=3000)\n",
    "        paper_subclass = paper_results_full.get(rule, \"N/A\")\n",
    "        match = \"✅\" if classification == paper_subclass else \"❌\"\n",
    "        if match == \"✅\":\n",
    "            correct_count += 1\n",
    "        print(f\"{rule:<10} | {paper_subclass:<20} | {classification:<20} | {match}\")\n",
    "\n",
    "    print(\"-\" * 60)\n",
    "    accuracy = (correct_count / len(rules_to_test)) * 100\n",
    "    print(f\"总共测试规则数: {len(rules_to_test)}\")\n",
    "    print(f\"匹配成功数: {correct_count}\")\n",
    "    print(f\"准确率: {accuracy:.2f}%\")\n",
    "\n",
    "if __name__ == '__main__':\n",
    "    # 注意：完整运行所有规则会非常耗时（可能需要一小时以上）\n",
    "    verify_all_rules_from_paper()\n",
    "\n"
   ]
  }
 ],
 "metadata": {
  "kernelspec": {
   "display_name": "Python 3 (ipykernel)",
   "language": "python",
   "name": "python3"
  },
  "language_info": {
   "codemirror_mode": {
    "name": "ipython",
    "version": 3
   },
   "file_extension": ".py",
   "mimetype": "text/x-python",
   "name": "python",
   "nbconvert_exporter": "python",
   "pygments_lexer": "ipython3",
   "version": "3.11.4"
  }
 },
 "nbformat": 4,
 "nbformat_minor": 5
}
