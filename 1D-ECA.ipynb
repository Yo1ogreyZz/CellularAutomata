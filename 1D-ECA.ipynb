{
 "cells": [
  {
   "metadata": {
    "ExecuteTime": {
     "end_time": "2025-08-29T03:03:44.780667Z",
     "start_time": "2025-08-29T03:03:44.765598Z"
    }
   },
   "cell_type": "markdown",
   "source": [
    "# Step 1 — 一维元胞自动机（ECA）入门：规则 → 模拟 → 空间–时间图\n",
    "\n",
    "本 Notebook 面向初学者，目标是：\n",
    "1. 把 Wolfram 规则号（0–255）转成 8 位规则表（truth table）\n",
    "2. 根据规则与初态，模拟一维 ECA 的演化轨迹\n",
    "3. 绘制经典的空间–时间图（Space–Time Diagram）\n",
    "\n",
    "我们将采用最小依赖（仅 numpy、matplotlib），并在每段代码之前用中文解释其作用，代码内部注释也全部用中文，方便你加笔记或修改实验参数。"
   ],
   "id": "2b159729816afb05"
  },
  {
   "metadata": {},
   "cell_type": "markdown",
   "source": [
    "## 背景与术语说明\n",
    "- ECA（Elementary Cellular Automata）：一维、二值（0/1）、半径 r=1 的最简单元胞自动机。每个格点的下一时刻仅依赖于它自己与左右各 1 个邻居，共 3-bit 邻域，因此共有 8 种邻域模式，每种模式的输出是 0 或 1。\n",
    "- Wolfram 规则号（0–255）：把 8 个输出位按固定顺序（通常从邻域 111 到 000）拼成一个 8 位二进制数，再解读为十进制，即得到规则号。例如 Rule 30、Rule 110。\n",
    "- 空间–时间图：把每一行显示为一个时刻的整条状态（长度为 L 的 0/1 序列），从上到下显示随时间演化的图案。\n",
    "\n",
    "> 位序约定：bits[k] 表示邻域模式的输出，其中索引 k 的二进制写法即为邻域从左到右的比特（left, center, right）。例如，k=0 表示模式 000，k=7 表示 111。"
   ],
   "id": "b6b2d5e6fd4466bc"
  },
  {
   "metadata": {
    "ExecuteTime": {
     "end_time": "2025-08-29T03:35:54.403001Z",
     "start_time": "2025-08-29T03:35:54.390002Z"
    }
   },
   "cell_type": "markdown",
   "source": [
    "## 规则号 → 8-bit 规则表\n",
    "\n",
    "下面的函数 `eca_rule_bits`：\n",
    "- 输入一个 `rule_id ∈ [0, 255]`。\n",
    "- 通过位运算，依次取出该规则号的 8 个二进制位，返回为长度为 8 的数组。\n",
    "- 索引与邻域的对应关系：索引 0 → 邻域 000，……，索引 7 → 邻域 111。"
   ],
   "id": "f2e2551277d91c53"
  },
  {
   "metadata": {
    "ExecuteTime": {
     "end_time": "2025-08-29T03:57:50.857270Z",
     "start_time": "2025-08-29T03:57:49.095374Z"
    }
   },
   "cell_type": "code",
   "source": [
    "import numpy as np\n",
    "\n",
    "def eca_rule_bits(rule_id: int) -> np.ndarray:\n",
    "    \"\"\"\n",
    "    ASCII-only docstring:\n",
    "    Convert Wolfram rule_id [0,255] into a length-8 bit table.\n",
    "    Index 0 -> neighborhood 000, index 7 -> 111.\n",
    "    Return uint8 array of 8 bits.\n",
    "    \"\"\"\n",
    "    # 参数检查：必须在 0..255 之间\n",
    "    if not (0 <= rule_id <= 255):\n",
    "        raise ValueError(\"rule_id 必须在 [0, 255] 之间\")\n",
    "    # 通过右移与按位与取出 8 个二进制位（k 从 0 到 7）\n",
    "    bits = np.array([(rule_id >> k) & 1 for k in range(8)], dtype=np.uint8)\n",
    "    return bits\n",
    "\n",
    "# 小测试：打印 Rule 30 的 8 位规则表\n",
    "rule_id = int(input())\n",
    "print(\"Rule\", rule_id, \"的 8-bit（索引0=000，索引7=111）:\", eca_rule_bits(rule_id))"
   ],
   "id": "51447027b92ce22a",
   "outputs": [
    {
     "name": "stdout",
     "output_type": "stream",
     "text": [
      "Rule 255 的 8-bit（索引0=000，索引7=111）: [1 1 1 1 1 1 1 1]\n"
     ]
    }
   ],
   "execution_count": 19
  },
  {
   "metadata": {},
   "cell_type": "markdown",
   "source": [
    "## ECA 单步更新与多步模拟\n",
    "\n",
    "实现两个函数：\n",
    "- `eca_step(state, bits, periodic)`: 对当前状态做一次更新；用位运算把 (left, center, right) 组成索引 k，在 bits[k] 查表得到输出。\n",
    "- `simulate_eca(rule_id, L, T, x0, periodic, seed)`: 做 T 步模拟，返回 (T+1, L) 的轨迹数组与规则表 bits。"
   ],
   "id": "d88f2a027552ad2e"
  },
  {
   "metadata": {
    "ExecuteTime": {
     "end_time": "2025-08-29T04:04:47.828772Z",
     "start_time": "2025-08-29T04:04:47.808796Z"
    }
   },
   "cell_type": "code",
   "source": [
    "from typing import Optional, Tuple\n",
    "\n",
    "def eca_step(state: np.ndarray, bits: np.ndarray, periodic: bool = True) -> np.ndarray:\n",
    "    \"\"\"\n",
    "    ASCII-only docstring:\n",
    "    Do one ECA update step with radius r=1.\n",
    "    \"\"\"\n",
    "    L = state.size\n",
    "    # 取左右邻居（根据边界条件）\n",
    "    if periodic:\n",
    "        # 周期边界：首尾相连（环形）\n",
    "        left  = np.roll(state, +1)\n",
    "        right = np.roll(state, -1)\n",
    "    else:\n",
    "        # 非周期边界：边界外补 0\n",
    "        left  = np.empty_like(state)\n",
    "        right = np.empty_like(state)\n",
    "        left[0]  = 0\n",
    "        left[1:] = state[:-1]\n",
    "        right[-1] = 0\n",
    "        right[:-1] = state[1:]\n",
    "\n",
    "    # 把 (left, center, right) 拼成 0..7 的索引： (left<<2)|(center<<1)|right\n",
    "    pat = (left << 2) | (state << 1) | right\n",
    "    # 根据规则表查出输出并返回\n",
    "    return bits[pat].astype(np.uint8)\n",
    "\n",
    "\n",
    "def simulate_eca(rule_id: int, L: int, T: int,\n",
    "                 x0: Optional[np.ndarray] = None,\n",
    "                 periodic: bool = True,\n",
    "                 seed: Optional[int] = 0) -> Tuple[np.ndarray, np.ndarray]:\n",
    "    \"\"\"\n",
    "    ASCII-only docstring:\n",
    "    Simulate T steps and return trajectory (T+1, L) and bits.\n",
    "    \"\"\"\n",
    "    rng = np.random.default_rng(seed)\n",
    "    bits = eca_rule_bits(rule_id)\n",
    "\n",
    "    # 若未提供初态，则随机生成 0/1 序列\n",
    "    if x0 is None:\n",
    "        x0 = rng.integers(0, 2, size=L, dtype=np.uint8)\n",
    "\n",
    "    # 轨迹数组：第 0 行是初态，第 t+1 行是第 t 步后的状态\n",
    "    traj = np.empty((T+1, L), dtype=np.uint8)\n",
    "    traj[0] = x0\n",
    "    for t in range(T):\n",
    "        traj[t+1] = eca_step(traj[t], bits, periodic=periodic)\n",
    "    return traj, bits\n",
    "\n",
    "# 小测试：长度 16，步数 8 的 Rule 30\n",
    "traj_demo, bits_demo = simulate_eca(30, L=16, T=8, seed=42)\n",
    "print(traj_demo[0])\n",
    "traj_demo"
   ],
   "id": "96dad09cd32ff53f",
   "outputs": [
    {
     "name": "stdout",
     "output_type": "stream",
     "text": [
      "[1 0 1 0 1 1 0 1 1 1 1 1 0 0 0 0]\n"
     ]
    },
    {
     "data": {
      "text/plain": [
       "array([[1, 0, 1, 0, 1, 1, 0, 1, 1, 1, 1, 1, 0, 0, 0, 0],\n",
       "       [1, 0, 1, 0, 1, 0, 0, 1, 0, 0, 0, 0, 1, 0, 0, 1],\n",
       "       [0, 0, 1, 0, 1, 1, 1, 1, 1, 0, 0, 1, 1, 1, 1, 1],\n",
       "       [1, 1, 1, 0, 1, 0, 0, 0, 0, 1, 1, 1, 0, 0, 0, 0],\n",
       "       [1, 0, 0, 0, 1, 1, 0, 0, 1, 1, 0, 0, 1, 0, 0, 1],\n",
       "       [0, 1, 0, 1, 1, 0, 1, 1, 1, 0, 1, 1, 1, 1, 1, 1],\n",
       "       [0, 1, 0, 1, 0, 0, 1, 0, 0, 0, 1, 0, 0, 0, 0, 0],\n",
       "       [1, 1, 0, 1, 1, 1, 1, 1, 0, 1, 1, 1, 0, 0, 0, 0],\n",
       "       [1, 0, 0, 1, 0, 0, 0, 0, 0, 1, 0, 0, 1, 0, 0, 1]], dtype=uint8)"
      ]
     },
     "execution_count": 32,
     "metadata": {},
     "output_type": "execute_result"
    }
   ],
   "execution_count": 32
  },
  {
   "metadata": {},
   "cell_type": "markdown",
   "source": [
    "## 空间–时间图可视化函数\n",
    "\n",
    "把轨迹 (T+1, L) 画成二维图（横轴空间 i，纵轴时间 t）。本函数不强制指定颜色映射，默认配色已能看出结构；如需黑白样式，可把数据转为 1 - traj 或传入自定义 colormap。"
   ],
   "id": "10021dbaa5b18e45"
  },
  {
   "metadata": {},
   "cell_type": "code",
   "outputs": [],
   "execution_count": null,
   "source": [
    "import matplotlib.pyplot as plt\n",
    "\n",
    "def plot_spacetime(traj: np.ndarray, title: str = \"\") -> None:\n",
    "    \"\"\"\n",
    "    ASCII-only docstring:\n",
    "    Plot space-time diagram for trajectory of shape (T+1, L).\n",
    "    \"\"\"\n",
    "    fig, ax = plt.subplots(figsize=(6, 5))\n",
    "    # 最近邻插值让像素边界清晰\n",
    "    ax.imshow(traj, aspect=\"auto\", interpolation=\"nearest\", origin=\"upper\")\n",
    "    ax.set_xlabel(\"空间索引 i\")\n",
    "    ax.set_ylabel(\"时间 t\")\n",
    "    if title:\n",
    "        ax.set_title(title)\n",
    "    plt.show()\n",
    "\n",
    "# 演示：画出上一个小测试的结果\n",
    "plot_spacetime(traj_demo, title=\"Rule 30（小演示）\")"
   ],
   "id": "5765c8a836d5ae81"
  },
  {
   "metadata": {},
   "cell_type": "markdown",
   "source": [
    "## 主实验：随机初态 + 指定规则的演化与绘图\n",
    "\n",
    "可修改以下参数：RULE_ID, L, T, SEED, PERIODIC。运行后会打印 8-bit 规则表（索引 0=000），并绘制空间–时间图。"
   ],
   "id": "d8f091fb4e4f9ee1"
  },
  {
   "metadata": {},
   "cell_type": "code",
   "outputs": [],
   "execution_count": null,
   "source": [
    "# ===== 主实验参数（可修改） =====\n",
    "RULE_ID = 110\n",
    "L        = 100\n",
    "T        = 120\n",
    "SEED     = 0\n",
    "PERIODIC = True\n",
    "\n",
    "traj, bits = simulate_eca(RULE_ID, L=L, T=T, seed=SEED, periodic=PERIODIC)\n",
    "print(\"该规则的 8-bit:\", bits)  # 索引0=邻域000，索引7=111\n",
    "plot_spacetime(traj, title=f\"ECA Rule {RULE_ID}, L={L}, T={T}\")"
   ],
   "id": "822a3bf92d3e2738"
  },
  {
   "metadata": {},
   "cell_type": "markdown",
   "source": [
    "## 典型“单点初态”演化（便于观察三角纹理）\n",
    "\n",
    "构造一个“单点初态”（只有中间一个 1），再用指定规则演化，常见的三角形/分形结构会非常清晰。"
   ],
   "id": "c9dde04db2213478"
  },
  {
   "metadata": {},
   "cell_type": "code",
   "outputs": [],
   "execution_count": null,
   "source": [
    "RULE_ID_spike = 90\n",
    "L_spike = 161\n",
    "T_spike = 160\n",
    "PERIODIC_spike = True\n",
    "\n",
    "# 构造单点初态（中间为 1）\n",
    "x0 = np.zeros(L_spike, dtype=np.uint8)\n",
    "x0[L_spike // 2] = 1\n",
    "\n",
    "traj_spike, _ = simulate_eca(RULE_ID_spike, L=L_spike, T=T_spike,\n",
    "                             x0=x0, periodic=PERIODIC_spike, seed=None)\n",
    "plot_spacetime(traj_spike, title=f\"单点初态 → Rule {RULE_ID_spike}\")"
   ],
   "id": "cfc27ffc9034fa84"
  },
  {
   "metadata": {},
   "cell_type": "markdown",
   "source": [
    "## 多规则对比：一次画出多条规则的空间–时间图\n",
    "\n",
    "用相同规模的实验参数对多条规则进行对比，便于快速形成直觉。"
   ],
   "id": "ea856d91729d7d00"
  },
  {
   "metadata": {},
   "cell_type": "code",
   "outputs": [],
   "execution_count": null,
   "source": [
    "rule_list = [30, 54, 90, 110, 184]\n",
    "L_cmp = 120\n",
    "T_cmp = 120\n",
    "\n",
    "for idx, rid in enumerate(rule_list, 1):\n",
    "    traj_cmp, _ = simulate_eca(rid, L=L_cmp, T=T_cmp, seed=idx, periodic=True)\n",
    "    plot_spacetime(traj_cmp, title=f\"[{idx}/{len(rule_list)}] Rule {rid}, L={L_cmp}, T={T_cmp}\")"
   ],
   "id": "24ba74cf694f07f1"
  },
  {
   "metadata": {},
   "cell_type": "markdown",
   "source": [
    "## 延伸阅读与下一步建议\n",
    "\n",
    "- 参数扫描：批量扫描 rule_id ∈ [0,255]，保存缩略图，快速浏览规则空间。\n",
    "- 汉明距离传播：复制初态并翻转一个比特，比较两条轨迹的汉明距离随时间变化，为后续分类/相变研究打基础。\n",
    "- 图表示（下一步）：把 (i,t) 作为图节点，连时间边与空间边，保存为图学习框架可读的数据结构。\n",
    "- 2D 扩展：实现 Game of Life 等 2D 规则，并用帧序列可视化。"
   ],
   "id": "a91887abc074df35"
  }
 ],
 "metadata": {
  "kernelspec": {
   "display_name": "Python 3",
   "language": "python",
   "name": "python3"
  },
  "language_info": {
   "codemirror_mode": {
    "name": "ipython",
    "version": 2
   },
   "file_extension": ".py",
   "mimetype": "text/x-python",
   "name": "python",
   "nbconvert_exporter": "python",
   "pygments_lexer": "ipython2",
   "version": "2.7.6"
  }
 },
 "nbformat": 4,
 "nbformat_minor": 5
}
